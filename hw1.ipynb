{
 "cells": [
  {
   "cell_type": "code",
   "execution_count": 1,
   "id": "5b21407f-0802-4c89-a4b9-8f3ef42ee3a1",
   "metadata": {},
   "outputs": [],
   "source": [
    "# Question 2\n",
    "def print_helloworld():\n",
    "    print(\"Hello World\")"
   ]
  },
  {
   "cell_type": "code",
   "execution_count": 2,
   "id": "dbd07551-9eb7-4cb0-a14f-42401234e6af",
   "metadata": {},
   "outputs": [
    {
     "name": "stdout",
     "output_type": "stream",
     "text": [
      "Hello World\n"
     ]
    }
   ],
   "source": [
    "print_helloworld()"
   ]
  },
  {
   "cell_type": "code",
   "execution_count": 3,
   "id": "ed240107-5b49-46bc-9be5-28d0c8e2b6bd",
   "metadata": {
    "tags": []
   },
   "outputs": [],
   "source": [
    "# Question 3\n",
    "def print_multiplication():\n",
    "    for i in range(1,13):\n",
    "        for j in range(1,i+1):\n",
    "            print(str(j)+\"*\"+str(i)+\"=\"+str(j*i),end=\" \")\n",
    "        print(\"\\n\")"
   ]
  },
  {
   "cell_type": "code",
   "execution_count": 4,
   "id": "a250de16-bc4e-4d7d-b931-7664d6909904",
   "metadata": {},
   "outputs": [
    {
     "name": "stdout",
     "output_type": "stream",
     "text": [
      "1*1=1 \n",
      "\n",
      "1*2=2 2*2=4 \n",
      "\n",
      "1*3=3 2*3=6 3*3=9 \n",
      "\n",
      "1*4=4 2*4=8 3*4=12 4*4=16 \n",
      "\n",
      "1*5=5 2*5=10 3*5=15 4*5=20 5*5=25 \n",
      "\n",
      "1*6=6 2*6=12 3*6=18 4*6=24 5*6=30 6*6=36 \n",
      "\n",
      "1*7=7 2*7=14 3*7=21 4*7=28 5*7=35 6*7=42 7*7=49 \n",
      "\n",
      "1*8=8 2*8=16 3*8=24 4*8=32 5*8=40 6*8=48 7*8=56 8*8=64 \n",
      "\n",
      "1*9=9 2*9=18 3*9=27 4*9=36 5*9=45 6*9=54 7*9=63 8*9=72 9*9=81 \n",
      "\n",
      "1*10=10 2*10=20 3*10=30 4*10=40 5*10=50 6*10=60 7*10=70 8*10=80 9*10=90 10*10=100 \n",
      "\n",
      "1*11=11 2*11=22 3*11=33 4*11=44 5*11=55 6*11=66 7*11=77 8*11=88 9*11=99 10*11=110 11*11=121 \n",
      "\n",
      "1*12=12 2*12=24 3*12=36 4*12=48 5*12=60 6*12=72 7*12=84 8*12=96 9*12=108 10*12=120 11*12=132 12*12=144 \n",
      "\n"
     ]
    }
   ],
   "source": [
    "print_multiplication()"
   ]
  },
  {
   "cell_type": "code",
   "execution_count": 6,
   "id": "1e0cdb17-6cc9-4631-b747-9cdf05098207",
   "metadata": {},
   "outputs": [],
   "source": [
    "#Question 4\n",
    "def is_palindrome(string):\n",
    "    if len(string) < 1:\n",
    "        return False\n",
    "    if len(string) == 1:\n",
    "        return True\n",
    "    start = 0\n",
    "    end = len(string) - 1 \n",
    "    while start < end:\n",
    "        if string[start] == string[end]:\n",
    "            start += 1\n",
    "            end -= 1\n",
    "        else:\n",
    "            return False\n",
    "    return True"
   ]
  },
  {
   "cell_type": "code",
   "execution_count": 9,
   "id": "4e753c9e-f5bd-487e-aef1-7eafa5149921",
   "metadata": {},
   "outputs": [
    {
     "name": "stdout",
     "output_type": "stream",
     "text": [
      "False True True False False True True True False\n"
     ]
    }
   ],
   "source": [
    "print(is_palindrome(\"abc\"),is_palindrome(\"aba\"),is_palindrome(\"a\"),\n",
    "      is_palindrome(\"\"),is_palindrome(\"aabb\"),is_palindrome(\"abba\"),\n",
    "     is_palindrome(\"abccba\"),is_palindrome(\"abcba\"),is_palindrome(\"sadasdqwrsad\"))"
   ]
  },
  {
   "cell_type": "code",
   "execution_count": 10,
   "id": "dbc387ce-f316-4078-948e-11c2755ac062",
   "metadata": {},
   "outputs": [],
   "source": [
    "#Question 5\n",
    "def merge_twolist(list1,list2):\n",
    "    i = 0\n",
    "    j = 0\n",
    "    result = []\n",
    "    # list1 and list2 have the same length\n",
    "    while i<len(list1):\n",
    "        result.append(list1[i])\n",
    "        i += 1\n",
    "        result.append(list2[j])\n",
    "        j += 1\n",
    "    return result"
   ]
  },
  {
   "cell_type": "code",
   "execution_count": 12,
   "id": "0bccdfa9-6ae4-4a44-a58e-9cefeabf3b3c",
   "metadata": {},
   "outputs": [
    {
     "name": "stdout",
     "output_type": "stream",
     "text": [
      "[1, 'a', 2, 'b', 3, 'c'] ['a', 1, 'b', 2, 'c', 3] [1, 5, 2, 6, 3, 7, 4, 8]\n"
     ]
    }
   ],
   "source": [
    "print(merge_twolist([1,2,3],[\"a\",\"b\",\"c\"]),merge_twolist([\"a\",\"b\",\"c\"],[1,2,3]),merge_twolist([1,2,3,4],[5,6,7,8]))"
   ]
  },
  {
   "cell_type": "code",
   "execution_count": 11,
   "id": "1ec12d31-b96b-4ac2-b139-c1c7972c6dad",
   "metadata": {},
   "outputs": [],
   "source": [
    "# Question 6\n",
    "def get_fibonacci(n):\n",
    "    if n==2:\n",
    "        return [1,1]\n",
    "    if n==1:\n",
    "        return [1]\n",
    "    fibo = [1,1]\n",
    "    for i in range(2,n):\n",
    "        fibo.append(fibo[i-1] + fibo[i-2])\n",
    "    return fibo"
   ]
  },
  {
   "cell_type": "code",
   "execution_count": 14,
   "id": "9b460985-acac-48d3-8194-b824f719083f",
   "metadata": {
    "tags": []
   },
   "outputs": [
    {
     "name": "stdout",
     "output_type": "stream",
     "text": [
      "[1, 1, 2, 3, 5, 8, 13, 21, 34, 55, 89, 144, 233, 377, 610, 987, 1597, 2584, 4181, 6765, 10946, 17711, 28657, 46368, 75025, 121393, 196418, 317811, 514229, 832040, 1346269, 2178309, 3524578, 5702887, 9227465, 14930352, 24157817, 39088169, 63245986, 102334155, 165580141, 267914296, 433494437, 701408733, 1134903170, 1836311903, 2971215073, 4807526976, 7778742049, 12586269025, 20365011074, 32951280099, 53316291173, 86267571272, 139583862445, 225851433717, 365435296162, 591286729879, 956722026041, 1548008755920, 2504730781961, 4052739537881, 6557470319842, 10610209857723, 17167680177565, 27777890035288, 44945570212853, 72723460248141, 117669030460994, 190392490709135, 308061521170129, 498454011879264, 806515533049393, 1304969544928657, 2111485077978050, 3416454622906707, 5527939700884757, 8944394323791464, 14472334024676221, 23416728348467685, 37889062373143906, 61305790721611591, 99194853094755497, 160500643816367088, 259695496911122585, 420196140727489673, 679891637638612258, 1100087778366101931, 1779979416004714189, 2880067194370816120, 4660046610375530309, 7540113804746346429, 12200160415121876738, 19740274219868223167, 31940434634990099905, 51680708854858323072, 83621143489848422977, 135301852344706746049, 218922995834555169026, 354224848179261915075]\n"
     ]
    }
   ],
   "source": [
    "print(get_fibonacci(100))"
   ]
  },
  {
   "cell_type": "code",
   "execution_count": 29,
   "id": "53651a0d-52f4-4de9-9a05-1c6a11ae1c8b",
   "metadata": {},
   "outputs": [],
   "source": [
    "# Question 7\n",
    "def is_leapyear(year):\n",
    "    if (year%4==0) and (year%100 !=0) or (year%400)==0:\n",
    "        print(str(year)+\" is a leap year\")\n",
    "    else:\n",
    "        print(str(year)+\" is not a leap year\")"
   ]
  },
  {
   "cell_type": "code",
   "execution_count": 39,
   "id": "e4ef21ca-e517-4b81-beee-b0e1a4bb1b3b",
   "metadata": {
    "tags": []
   },
   "outputs": [
    {
     "name": "stdout",
     "output_type": "stream",
     "text": [
      "2000 is a leap year\n"
     ]
    }
   ],
   "source": [
    "is_leapyear(2000)"
   ]
  },
  {
   "cell_type": "code",
   "execution_count": 40,
   "id": "86475405-3885-4b3b-948c-3b3a5ade9668",
   "metadata": {},
   "outputs": [
    {
     "name": "stdout",
     "output_type": "stream",
     "text": [
      "2001 is not a leap year\n"
     ]
    }
   ],
   "source": [
    "is_leapyear(2001)"
   ]
  },
  {
   "cell_type": "code",
   "execution_count": 41,
   "id": "dea31d37-475a-407b-90ef-15963ade0f89",
   "metadata": {},
   "outputs": [
    {
     "name": "stdout",
     "output_type": "stream",
     "text": [
      "2002 is not a leap year\n"
     ]
    }
   ],
   "source": [
    "is_leapyear(2002)"
   ]
  },
  {
   "cell_type": "code",
   "execution_count": 42,
   "id": "a47e8d3e-5b44-4119-a53a-4945d89eb32b",
   "metadata": {},
   "outputs": [
    {
     "name": "stdout",
     "output_type": "stream",
     "text": [
      "800 is a leap year\n"
     ]
    }
   ],
   "source": [
    "is_leapyear(800)"
   ]
  },
  {
   "cell_type": "code",
   "execution_count": 43,
   "id": "342b85a5-6e84-44b3-a604-38631531c733",
   "metadata": {},
   "outputs": [
    {
     "name": "stdout",
     "output_type": "stream",
     "text": [
      "400 is a leap year\n"
     ]
    }
   ],
   "source": [
    "is_leapyear(400)"
   ]
  },
  {
   "cell_type": "code",
   "execution_count": null,
   "id": "075ec00a-ff96-423d-bae9-cf7b4a90e1c0",
   "metadata": {},
   "outputs": [],
   "source": []
  }
 ],
 "metadata": {
  "kernelspec": {
   "display_name": "Python 3 (ipykernel)",
   "language": "python",
   "name": "python3"
  },
  "language_info": {
   "codemirror_mode": {
    "name": "ipython",
    "version": 3
   },
   "file_extension": ".py",
   "mimetype": "text/x-python",
   "name": "python",
   "nbconvert_exporter": "python",
   "pygments_lexer": "ipython3",
   "version": "3.9.7"
  }
 },
 "nbformat": 4,
 "nbformat_minor": 5
}
